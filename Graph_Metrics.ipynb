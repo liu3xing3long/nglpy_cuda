{
 "cells": [
  {
   "cell_type": "markdown",
   "metadata": {},
   "source": [
    "# Imports"
   ]
  },
  {
   "cell_type": "code",
   "execution_count": 1,
   "metadata": {
    "ExecuteTime": {
     "end_time": "2019-02-15T05:15:37.830783Z",
     "start_time": "2019-02-15T05:15:37.134289Z"
    }
   },
   "outputs": [],
   "source": [
    "# Standard library imports\n",
    "import math\n",
    "import os\n",
    "import random\n",
    "import time\n",
    "\n",
    "# Third party imports\n",
    "import descartes\n",
    "import ghalton\n",
    "from ipywidgets import interact, widgets\n",
    "import matplotlib.pyplot as plt\n",
    "from matplotlib import patches, collections\n",
    "from mpl_toolkits.mplot3d import Axes3D\n",
    "import networkx as nx\n",
    "import numpy as np\n",
    "import pandas as pd\n",
    "import pyDOE\n",
    "from scipy.spatial import Delaunay\n",
    "import seaborn as sns\n",
    "from shapely import geometry\n",
    "from shapely.ops import cascaded_union, polygonize\n",
    "import sklearn\n",
    "\n",
    "# Local application imports\n",
    "import nglpy_cuda as ngl\n",
    "import samply\n"
   ]
  },
  {
   "cell_type": "markdown",
   "metadata": {},
   "source": [
    "# Functions"
   ]
  },
  {
   "cell_type": "code",
   "execution_count": 30,
   "metadata": {
    "ExecuteTime": {
     "end_time": "2019-02-15T06:16:09.702983Z",
     "start_time": "2019-02-15T06:16:09.616098Z"
    }
   },
   "outputs": [],
   "source": [
    "def generate_sample_set(strategy, count, dimensionality, seed=0):\n",
    "    np.random.seed(seed)\n",
    "\n",
    "    if strategy == 'uniform':\n",
    "        X = np.random.uniform(size=(count, dimensionality))\n",
    "    elif strategy == 'normal':\n",
    "        X = np.clip(np.random.normal(loc=0.5, scale=0.15, size=(count, dimensionality)), 0, 1)\n",
    "    elif strategy == 'grid':\n",
    "        numPoints = np.ceil(count**(1./dimensionality))\n",
    "        temp = np.meshgrid(*[np.linspace(0, 1, numPoints)[:] for i in range(dimensionality)])\n",
    "        X = np.vstack(map(np.ravel, temp)).T[:count]\n",
    "    elif strategy == 'cvt':\n",
    "        X = samply.CVTSampler.generate_samples(count, dimensionality, seed)\n",
    "    elif strategy == 'lhs':\n",
    "        X = pyDOE.lhs(dimensionality, count)\n",
    "    elif strategy == 'shell':\n",
    "        sampler = samply.DirectionalSampler(dimensionality)\n",
    "        r = np.random.uniform(low=0.5, high=1, size=(count,1))\n",
    "        X = ((r * sampler.generate_samples(count)) + 1) / 2.\n",
    "    elif strategy == 'dshell':\n",
    "        a = np.random.choice(a=[0, 1], size=count)\n",
    "        sampler = samply.DirectionalSampler(dimensionality)\n",
    "        low=0.1\n",
    "        high=0.3\n",
    "        r = np.random.uniform(low=low, high=high, size=(count,1))\n",
    "        mask = np.where(a==1)[0]\n",
    "        low=0.7\n",
    "        high=0.9\n",
    "        r[mask] = np.random.uniform(low=low, high=high, size=(len(mask),1))\n",
    "        X = ((r * sampler.generate_samples(count)) + 1) / 2.\n",
    "    elif strategy == 'x':\n",
    "        sgn = np.random.choice(a=[False, True], size=(count, dimensionality-1))\n",
    "        low=0.2\n",
    "        high=0.8\n",
    "        x = np.random.uniform(low=low, high=high, size=(count,1))\n",
    "        y = x + np.random.uniform(low=-0.1, high=0.1, size=(count, dimensionality-1))\n",
    "        y[sgn] = 1 - y[sgn]\n",
    "        X = np.hstack((x, y))\n",
    "    elif strategy == 's':\n",
    "        low=0.05\n",
    "        high=0.95\n",
    "        x = np.random.uniform(low=low, high=high, size=(count,1))\n",
    "        y = x + 0.5*np.sin(2*np.pi*x) + np.random.uniform(low=-0.1, high=0.1, size=(count, dimensionality-1))\n",
    "        X = np.hstack((x,y))\n",
    "    elif strategy == 'stripes':\n",
    "        b = np.random.choice(a=[-0.5, 0.0, 0.5], size=(count,1))\n",
    "        low = 0.0\n",
    "        high = 0.5\n",
    "        x = np.random.uniform(low=low, high=high, size=(count,1))\n",
    "        mask = np.where(b < 0)[0]\n",
    "        low = 0.6\n",
    "        high = 0.8\n",
    "        x[mask] = np.random.uniform(low=low, high=high, size=(len(mask),1))\n",
    "        mask = np.where(b > 0)[0]\n",
    "        low = 0.2\n",
    "        high = 0.5\n",
    "        x[mask] = np.random.uniform(low=low, high=high, size=(len(mask),1))\n",
    "        y = np.clip(x + np.random.uniform(low=-0.05, high=0.05, size=(count, dimensionality-1)) + b, 0, 1)\n",
    "        X = np.hstack((x, y))\n",
    "    elif strategy == 'distinct_mixture':\n",
    "        a = np.random.choice(a=[0, 1, 2], size=count)\n",
    "        cov = 0.00125*np.eye(dimensionality)\n",
    "        mean = 0.25*np.ones(dimensionality)\n",
    "        X = np.clip(np.random.multivariate_normal(mean, cov, size=count), 0, 1)\n",
    "        mask = np.where(a == 1)[0]\n",
    "        mean = 0.5*np.ones(dimensionality)\n",
    "        X[mask] = np.clip(np.random.multivariate_normal(mean, cov, size=len(mask)), 0, 1)        \n",
    "        mask = np.where(a == 2)[0]\n",
    "        mean = 0.75*np.ones(dimensionality)\n",
    "        #Set every other dimension to 0.25\n",
    "        mean[1::2] = 0.25\n",
    "        X[mask] = np.clip(np.random.multivariate_normal(mean, cov, size=len(mask)), 0, 1)        \n",
    "    elif strategy == 'overlap_mixture':\n",
    "        a = np.random.choice(a=[0, 1, 2], size=count)\n",
    "        mean = 0.5*np.ones(dimensionality)\n",
    "        cov = 0.0125*np.eye(dimensionality)\n",
    "        X = np.clip(np.random.multivariate_normal(mean, cov, size=count), 0, 1)\n",
    "        mask = np.where(a == 1)[0]\n",
    "        mean = 2./3.*np.ones(dimensionality)\n",
    "        cov = 0.001*np.eye(dimensionality)\n",
    "        X[mask] = np.clip(np.random.multivariate_normal(mean, cov, size=len(mask)), 0, 1)        \n",
    "        mask = np.where(a == 2)[0]\n",
    "        mean = 1./3.*np.ones(dimensionality)\n",
    "        cov = 0.001*np.eye(dimensionality)\n",
    "        X[mask] = np.clip(np.random.multivariate_normal(mean, cov, size=len(mask)), 0, 1) \n",
    "    elif strategy == 'halton':\n",
    "        sequencer = ghalton.GeneralizedHalton(dimensionality, seed)\n",
    "        X = np.array(sequencer.get(count))\n",
    "\n",
    "    return X\n"
   ]
  },
  {
   "cell_type": "code",
   "execution_count": 3,
   "metadata": {
    "ExecuteTime": {
     "end_time": "2019-02-15T05:15:39.619753Z",
     "start_time": "2019-02-15T05:15:39.606935Z"
    }
   },
   "outputs": [],
   "source": [
    "def alpha_shape(points, alpha):\n",
    "    \"\"\"\n",
    "    Compute the alpha shape (concave hull) of a set\n",
    "    of points.\n",
    "    @param points: Iterable container of points.\n",
    "    @param alpha: alpha value to influence the\n",
    "        gooeyness of the border. Smaller numbers\n",
    "        don't fall inward as much as larger numbers.\n",
    "        Too large, and you lose everything!\n",
    "    \"\"\"\n",
    "    if len(points) < 4:\n",
    "        # When you have a triangle, there is no sense\n",
    "        # in computing an alpha shape.\n",
    "        return geometry.MultiPoint(list(points)).convex_hull\n",
    "    \n",
    "    def add_edge(edges, edge_points, coords, i, j):\n",
    "        \"\"\"\n",
    "        Add a line between the i-th and j-th points,\n",
    "        if not in the list already\n",
    "        \"\"\"\n",
    "        if (i, j) in edges or (j, i) in edges:\n",
    "            # already added\n",
    "            return\n",
    "        edges.add( (i, j) )\n",
    "        edge_points.append(coords[ [i, j] ])\n",
    "        \n",
    "    coords = np.array([point.coords[0] for point in points])\n",
    "    tri = Delaunay(coords)\n",
    "    edges = set()\n",
    "    edge_points = []\n",
    "    # loop over triangles:\n",
    "    # ia, ib, ic = indices of corner points of the\n",
    "    # triangle\n",
    "    for ia, ib, ic in tri.vertices:\n",
    "        pa = coords[ia]\n",
    "        pb = coords[ib]\n",
    "        pc = coords[ic]\n",
    "        # Lengths of sides of triangle\n",
    "        a = math.sqrt((pa[0]-pb[0])**2 + (pa[1]-pb[1])**2)\n",
    "        b = math.sqrt((pb[0]-pc[0])**2 + (pb[1]-pc[1])**2)\n",
    "        c = math.sqrt((pc[0]-pa[0])**2 + (pc[1]-pa[1])**2)\n",
    "        # Semiperimeter of triangle\n",
    "        s = (a + b + c)/2.0\n",
    "        # Area of triangle by Heron's formula\n",
    "        area = math.sqrt(s*(s-a)*(s-b)*(s-c))\n",
    "        circum_r = a*b*c/(4.0*area)\n",
    "        # Here's the radius filter.\n",
    "        #print circum_r\n",
    "        if circum_r < 1.0/alpha:\n",
    "            add_edge(edges, edge_points, coords, ia, ib)\n",
    "            add_edge(edges, edge_points, coords, ib, ic)\n",
    "            add_edge(edges, edge_points, coords, ic, ia)\n",
    "    m = geometry.MultiLineString(edge_points)\n",
    "    triangles = list(polygonize(m))\n",
    "    return cascaded_union(triangles), edge_points"
   ]
  },
  {
   "cell_type": "code",
   "execution_count": 4,
   "metadata": {
    "ExecuteTime": {
     "end_time": "2019-02-15T05:15:40.226839Z",
     "start_time": "2019-02-15T05:15:40.213054Z"
    }
   },
   "outputs": [],
   "source": [
    "def out_of_bounds_count(G, X, alpha):\n",
    "    obs = 0\n",
    "    points = geometry.MultiPoint([ tuple(x) for x in X])\n",
    "    concave_hull, edge_points = alpha_shape(points, alpha=alpha)\n",
    "    for e1 in G.edges():\n",
    "        line = geometry.LineString(X[e1, :])\n",
    "        if not line.difference(line.intersection(concave_hull)).is_empty:\n",
    "            obs += 1\n",
    "    return obs"
   ]
  },
  {
   "cell_type": "code",
   "execution_count": 5,
   "metadata": {
    "ExecuteTime": {
     "end_time": "2019-02-15T05:15:40.670322Z",
     "start_time": "2019-02-15T05:15:40.663948Z"
    }
   },
   "outputs": [],
   "source": [
    "def average_area(G, X, alpha):\n",
    "    # Somehow measure the emptiness of the alpha shape\n",
    "    # Compute teh average area of the polygons cut out by the graph.\n",
    "    # Smaller means better coverage\n",
    "    points = geometry.MultiPoint([ tuple(x) for x in X])\n",
    "    concave_hull, edge_points = alpha_shape(points, alpha=alpha)\n",
    "    lines = []\n",
    "    for e1 in G.edges():\n",
    "        lines.append(geometry.LineString(X[e1, :]))\n",
    "\n",
    "    polygons = polygonize(lines)\n",
    "    areas = []\n",
    "    for p in polygons:\n",
    "        p = p.buffer(0)\n",
    "        if p.difference(p.intersection(concave_hull)).is_empty:\n",
    "            areas.append(p.area)\n",
    "            \n",
    "    if len(areas):\n",
    "        return np.mean(areas)\n",
    "    else:\n",
    "        return concave_hull.area"
   ]
  },
  {
   "cell_type": "code",
   "execution_count": 6,
   "metadata": {
    "ExecuteTime": {
     "end_time": "2019-02-15T05:15:41.128834Z",
     "start_time": "2019-02-15T05:15:41.123234Z"
    }
   },
   "outputs": [],
   "source": [
    "def coverage(G, X, alpha):\n",
    "    # Somehow measure the emptiness of the alpha shape\n",
    "    # Compute teh average area of the polygons cut out by the graph.\n",
    "    # Smaller means better coverage\n",
    "    points = geometry.MultiPoint([ tuple(x) for x in X])\n",
    "    concave_hull, edge_points = alpha_shape(points, alpha=alpha)\n",
    "    lines = []\n",
    "    for e1 in G.edges():\n",
    "        lines.append(geometry.LineString(X[e1, :]))\n",
    "\n",
    "    polygons =  []\n",
    "    for p in polygonize(lines):\n",
    "        p = p.buffer(0)\n",
    "        if p.difference(p.intersection(concave_hull)).is_empty:\n",
    "            polygons.append(p)\n",
    "            \n",
    "    polytope = cascaded_union(polygons)\n",
    "    return polytope.area / concave_hull.area"
   ]
  },
  {
   "cell_type": "code",
   "execution_count": 7,
   "metadata": {
    "ExecuteTime": {
     "end_time": "2019-02-15T05:15:41.630524Z",
     "start_time": "2019-02-15T05:15:41.624857Z"
    }
   },
   "outputs": [],
   "source": [
    "def intersect(a1, b1, a2, b2):\n",
    "    \"\"\"Returns True if line segments a1b1 and a2b2 intersect.\"\"\"\n",
    "    return ccw(a1, b1, a2) != ccw(a1, b1, b2) and ccw(a2, b2, a1) != ccw(a2, b2, b1)\n",
    "\n",
    "def ccw(A, B, C):\n",
    "    \"\"\"Tests whether the turn formed by A, B, and C is ccw\"\"\"\n",
    "    return (B[0] - A[0]) * (C[1] - A[1]) > (B[1] - A[1]) * (C[0] - A[0])"
   ]
  },
  {
   "cell_type": "code",
   "execution_count": 8,
   "metadata": {
    "ExecuteTime": {
     "end_time": "2019-02-15T05:15:42.192307Z",
     "start_time": "2019-02-15T05:15:42.180803Z"
    },
    "scrolled": false
   },
   "outputs": [],
   "source": [
    "def crossing_count(G):\n",
    "    crossings = 0\n",
    "    edges = list(G.edges())\n",
    "    for i, e1 in enumerate(edges):\n",
    "        pts1 = X[e1, :]\n",
    "        for e2 in edges[(i+1):]:\n",
    "            if e2[0] in e1 or e2[1] in e1:\n",
    "                continue\n",
    "            pts2 = X[e2, :]\n",
    "            if intersect(pts1[0], pts1[1], pts2[0], pts2[1]):\n",
    "                crossings += 1\n",
    "    return crossings"
   ]
  },
  {
   "cell_type": "code",
   "execution_count": 9,
   "metadata": {
    "ExecuteTime": {
     "end_time": "2019-02-15T05:15:42.654123Z",
     "start_time": "2019-02-15T05:15:42.650636Z"
    }
   },
   "outputs": [],
   "source": [
    "\n",
    "# def handle_event_point(p):\n",
    "#     pass\n",
    "\n",
    "# def find_intersections(X, G):\n",
    "#     segments = [(X[e[0]], X[e[1]]) for e in G.edges()]\n",
    "#     queue = []\n",
    "#     for seg in segments:\n",
    "#         if seg[1][0] < seg[0][0]:\n",
    "#             lo = 1\n",
    "#             hi = 0\n",
    "#         else:\n",
    "#             lo = 0\n",
    "#             hi = 1\n",
    "#         heapq.heappush(heap, (seg[lo][0], seg))\n",
    "#         heapq.heappush(heap, (seg[hi][0], None))\n",
    "\n",
    "#     while len(heap):\n",
    "#         (x, seg) = heapq.heappop(heap)\n",
    "#         handle_event_point(x)"
   ]
  },
  {
   "cell_type": "markdown",
   "metadata": {},
   "source": [
    "# Test the Samplers"
   ]
  },
  {
   "cell_type": "code",
   "execution_count": 31,
   "metadata": {
    "ExecuteTime": {
     "end_time": "2019-02-15T06:16:19.106850Z",
     "start_time": "2019-02-15T06:16:16.312836Z"
    },
    "scrolled": false
   },
   "outputs": [
    {
     "name": "stderr",
     "output_type": "stream",
     "text": [
      "/home/maljovec/miniconda3/envs/gpu/lib/python3.6/site-packages/ipykernel/__main__.py:10: DeprecationWarning: object of type <class 'numpy.float64'> cannot be safely interpreted as an integer.\n"
     ]
    },
    {
     "data": {
      "image/png": "[encoded data removed]",
      "text/plain": [
       "<Figure size 1600x1600 with 16 Axes>"
      ]
     },
     "metadata": {
      "needs_background": "light"
     },
     "output_type": "display_data"
    }
   ],
   "source": [
    "%matplotlib inline\n",
    "\n",
    "count = 100\n",
    "dimensionality = 2\n",
    "strategies = [\"uniform\", \"normal\", \"grid\", \"cvt\", \"lhs\", \"halton\", \"shell\",\n",
    "              \"dshell\", \"x\", \"s\", \"stripes\", \"distinct_mixture\",\n",
    "              \"overlap_mixture\"]\n",
    "\n",
    "plot_dim = int(np.ceil(np.sqrt(len(strategies))))\n",
    "fig, axes = plt.subplots(nrows=plot_dim, ncols=plot_dim, dpi=100, figsize=(4*plot_dim, 4*plot_dim))\n",
    "\n",
    "for ax,strategy in zip(axes.flatten(), strategies):\n",
    "    X = generate_sample_set(strategy, count, dimensionality)\n",
    "    ax.scatter(X[:,0], X[:,1])\n",
    "    ax.set_xlim(0,1)\n",
    "    ax.set_ylim(0,1)\n",
    "    ax.set_aspect(1)\n",
    "    ax.set_title(strategy)"
   ]
  },
  {
   "cell_type": "markdown",
   "metadata": {},
   "source": [
    "# Sample the $\\beta_p$-Skeletons"
   ]
  },
  {
   "cell_type": "code",
   "execution_count": 36,
   "metadata": {
    "ExecuteTime": {
     "end_time": "2019-02-15T06:49:53.038337Z",
     "start_time": "2019-02-15T06:49:47.546512Z"
    },
    "scrolled": false
   },
   "outputs": [
    {
     "data": {
      "application/vnd.jupyter.widget-view+json": {
       "model_id": "bfdc07a867d248ab86d1d346cd6c5ef5",
       "version_major": 2,
       "version_minor": 0
      },
      "text/plain": [
       "interactive(children=(Dropdown(description='strategy', options=('uniform', 'normal', 'grid', 'cvt', 'lhs', 'ha…"
      ]
     },
     "metadata": {},
     "output_type": "display_data"
    }
   ],
   "source": [
    "@interact(strategy=strategies)\n",
    "def sample_betas(strategy):\n",
    "    count = 100\n",
    "    dimensionality = 2\n",
    "\n",
    "    X = generate_sample_set(strategy, count, dimensionality)\n",
    "    graphs = {}\n",
    "#     betas = np.arange(0.25, 2.25,0.25)\n",
    "#     ps = [0.2, 0.4, 0.8, 1, 2, 4]\n",
    "    betas = [0.25, 0.5, 1, 1.5, 2]\n",
    "    ps = [0.4, 0.8, 1, 2, 4]\n",
    "\n",
    "    fig, axes = plt.subplots(nrows=len(betas), ncols=len(ps), dpi=200, figsize=(2*len(ps), 2*len(betas)))\n",
    "\n",
    "    for row, beta in enumerate(betas):\n",
    "        for col, p in enumerate(ps):\n",
    "            ax = axes[row, col]\n",
    "            go = ngl.EmptyRegionGraph(beta=beta, p=p, relaxed=False)\n",
    "            go.build(X)\n",
    "            lines = []\n",
    "            G = nx.Graph()\n",
    "            for i in range(count):\n",
    "                G.add_node(i)\n",
    "            for (a, b, distance) in go:\n",
    "                G.add_edge(a, b, length=distance)\n",
    "                lines.append([(X[a,0], X[a,1]), (X[b, 0], X[b, 1])])\n",
    "\n",
    "            graphs[(beta, p)] = G\n",
    "            line_segments = collections.LineCollection(lines, colors='#a6cee3', alpha=0.5, linestyles='--', zorder=2)\n",
    "\n",
    "            ax.scatter(X[:,0], X[:,1], marker=',', s=1, zorder=3)\n",
    "            ax.add_collection(line_segments)\n",
    "            ax.set_xlim(0,1)\n",
    "            ax.set_ylim(0,1)\n",
    "            ax.set_aspect(1)\n",
    "            if row == 0:\n",
    "                ax.set_title(\"p: {}\".format(p))\n",
    "            if row != len(betas)-1:\n",
    "                ax.set_xticks([])\n",
    "            if col == 0:\n",
    "                ax.set_ylabel(\"beta: {:0.2f}\".format(beta))\n",
    "            else:\n",
    "                ax.set_yticks([])"
   ]
  },
  {
   "cell_type": "markdown",
   "metadata": {
    "heading_collapsed": true
   },
   "source": [
    "# Sample KNN Graphs"
   ]
  },
  {
   "cell_type": "code",
   "execution_count": 20,
   "metadata": {
    "ExecuteTime": {
     "end_time": "2019-02-15T06:02:59.505223Z",
     "start_time": "2019-02-15T06:02:56.323230Z"
    },
    "hidden": true,
    "scrolled": false
   },
   "outputs": [
    {
     "data": {
      "application/vnd.jupyter.widget-view+json": {
       "model_id": "7f6f0e2a11fb42df87417b47ab7e0435",
       "version_major": 2,
       "version_minor": 0
      },
      "text/plain": [
       "interactive(children=(Dropdown(description='strategy', options=('uniform', 'normal', 'grid', 'cvt', 'lhs', 'ha…"
      ]
     },
     "metadata": {},
     "output_type": "display_data"
    }
   ],
   "source": [
    "@interact(strategy=strategies)\n",
    "def sample_knns(strategy):\n",
    "    count = 100\n",
    "    dimensionality = 2\n",
    "\n",
    "    X = generate_sample_set(strategy, count, dimensionality)\n",
    "\n",
    "    k_graphs = {}\n",
    "    ks = range(1,26)\n",
    "    plot_dim = int(np.ceil(np.sqrt(len(ks))))\n",
    "    fig, axes = plt.subplots(nrows=plot_dim, ncols=plot_dim, dpi=100, figsize=(2*plot_dim, 2*plot_dim))\n",
    "    for k, ax in zip(ks, axes.flatten()):\n",
    "        go = ngl.DistanceGraph(max_neighbors=k+1)\n",
    "        go.build(X)\n",
    "        lines = []\n",
    "        G = nx.Graph()\n",
    "        for i in range(count):\n",
    "            G.add_node(i)\n",
    "        for (a, b, distance) in go:\n",
    "            G.add_edge(a, b, length=distance)\n",
    "            lines.append([(X[a,0], X[a,1]), (X[b, 0], X[b, 1])])\n",
    "\n",
    "        line_segments = collections.LineCollection(lines, colors='#a6cee3', alpha=0.5, linestyles='--', zorder=2)\n",
    "        ax.scatter(X[:,0], X[:,1], marker=',', s=1, zorder=3)\n",
    "        ax.add_collection(line_segments)\n",
    "        ax.set_xlim(0,1)\n",
    "        ax.set_ylim(0,1)\n",
    "        ax.set_xticks([])\n",
    "        ax.set_yticks([])\n",
    "        ax.set_aspect(1)\n",
    "        ax.set_title(\"k: {}\".format(k))\n",
    "\n",
    "        k_graphs[k] = G\n",
    "    "
   ]
  },
  {
   "cell_type": "markdown",
   "metadata": {},
   "source": [
    "# Sample Yao Graphs"
   ]
  },
  {
   "cell_type": "code",
   "execution_count": 17,
   "metadata": {
    "ExecuteTime": {
     "end_time": "2019-02-15T05:53:37.255446Z",
     "start_time": "2019-02-15T05:53:31.797079Z"
    },
    "scrolled": false
   },
   "outputs": [
    {
     "data": {
      "application/vnd.jupyter.widget-view+json": {
       "model_id": "5bc123ec585c4e06aa113fb972081da6",
       "version_major": 2,
       "version_minor": 0
      },
      "text/plain": [
       "interactive(children=(Dropdown(description='strategy', options=('uniform', 'normal', 'grid', 'cvt', 'lhs', 'ha…"
      ]
     },
     "metadata": {},
     "output_type": "display_data"
    }
   ],
   "source": [
    "@interact(strategy=strategies)\n",
    "def sample_yaos(strategy):\n",
    "    count = 100\n",
    "    dimensionality = 2\n",
    "\n",
    "    X = generate_sample_set(strategy, count, dimensionality)\n",
    "\n",
    "    cones = list(range(1,6))\n",
    "    points = list(range(1,4))\n",
    "    fig, axes = plt.subplots(nrows=len(cones), ncols=len(points), dpi=100, figsize=(2*len(points), 2*len(cones)))\n",
    "    yao_graphs = {}\n",
    "    for row, k in enumerate(cones):\n",
    "        for col, n in enumerate(points):\n",
    "            ax = axes[row, col]\n",
    "            go = ngl.ConeGraph(num_sectors=k, points_per_sector=n, algorithm=\"yao\")\n",
    "            go.build(X)\n",
    "            lines = []\n",
    "            G = nx.Graph()\n",
    "            for i in range(count):\n",
    "                G.add_node(i)\n",
    "            for (a, b, distance) in go:\n",
    "                G.add_edge(a, b, length=distance)\n",
    "                lines.append([(X[a,0], X[a,1]), (X[b, 0], X[b, 1])])\n",
    "\n",
    "            line_segments = collections.LineCollection(lines, colors='#a6cee3', alpha=0.5, linestyles='--', zorder=2)\n",
    "\n",
    "            ax.scatter(X[:,0], X[:,1], marker=',', s=1, zorder=3)\n",
    "            ax.add_collection(line_segments)\n",
    "            ax.set_xlim(0,1)\n",
    "            ax.set_ylim(0,1)\n",
    "            ax.set_aspect(1)\n",
    "            if row == 0:\n",
    "                ax.set_title(\"n: {}\".format(n))\n",
    "            if row != len(cones)-1:\n",
    "                ax.set_xticks([])\n",
    "            if col == 0:\n",
    "                ax.set_ylabel(\"k: {}\".format(k))\n",
    "            else:\n",
    "                ax.set_yticks([])\n",
    "\n",
    "            yao_graphs[k] = G"
   ]
  },
  {
   "cell_type": "markdown",
   "metadata": {
    "ExecuteTime": {
     "end_time": "2019-02-07T01:08:08.180948Z",
     "start_time": "2019-02-07T01:08:08.176790Z"
    }
   },
   "source": [
    "# $\\Theta$ Graphs"
   ]
  },
  {
   "cell_type": "code",
   "execution_count": 18,
   "metadata": {
    "ExecuteTime": {
     "end_time": "2019-02-15T05:55:31.661520Z",
     "start_time": "2019-02-15T05:55:25.804060Z"
    },
    "scrolled": false
   },
   "outputs": [
    {
     "data": {
      "application/vnd.jupyter.widget-view+json": {
       "model_id": "7bd6169d3df44b3cabe5e804384ea413",
       "version_major": 2,
       "version_minor": 0
      },
      "text/plain": [
       "interactive(children=(Dropdown(description='strategy', options=('uniform', 'normal', 'grid', 'cvt', 'lhs', 'ha…"
      ]
     },
     "metadata": {},
     "output_type": "display_data"
    }
   ],
   "source": [
    "@interact(strategy=strategies)\n",
    "def sample_thetas(strategy):\n",
    "    count = 100\n",
    "    dimensionality = 2\n",
    "\n",
    "    X = generate_sample_set(strategy, count, dimensionality)\n",
    "\n",
    "    cones = list(range(1,6))\n",
    "    points = list(range(1,4))\n",
    "    fig, axes = plt.subplots(nrows=len(cones), ncols=len(points), dpi=100, figsize=(2*len(points), 2*len(cones)))\n",
    "    theta_graphs = {}\n",
    "    for row, k in enumerate(cones):\n",
    "        for col, n in enumerate(points):\n",
    "            ax = axes[row, col]\n",
    "            go = ngl.ConeGraph(num_sectors=k, points_per_sector=n, algorithm=\"theta\")\n",
    "            go.build(X)\n",
    "            lines = []\n",
    "            G = nx.Graph()\n",
    "            for i in range(count):\n",
    "                G.add_node(i)\n",
    "            for (a, b, distance) in go:\n",
    "                G.add_edge(a, b, length=distance)\n",
    "                lines.append([(X[a,0], X[a,1]), (X[b, 0], X[b, 1])])\n",
    "\n",
    "            line_segments = collections.LineCollection(lines, colors='#a6cee3', alpha=0.5, linestyles='--', zorder=2)\n",
    "\n",
    "            ax.scatter(X[:,0], X[:,1], marker=',', s=1, zorder=3)\n",
    "            ax.add_collection(line_segments)\n",
    "            ax.set_xlim(0,1)\n",
    "            ax.set_ylim(0,1)\n",
    "            ax.set_aspect(1)\n",
    "            if row == 0:\n",
    "                ax.set_title(\"n: {}\".format(n))\n",
    "            if row != len(cones)-1:\n",
    "                ax.set_xticks([])\n",
    "            if col == 0:\n",
    "                ax.set_ylabel(\"k: {}\".format(k))\n",
    "            else:\n",
    "                ax.set_yticks([])\n",
    "\n",
    "            theta_graphs[k] = G"
   ]
  },
  {
   "cell_type": "markdown",
   "metadata": {},
   "source": [
    "# Demonstration  of Techniques"
   ]
  },
  {
   "cell_type": "markdown",
   "metadata": {},
   "source": [
    "The edge crossing algorithm needs optimized, here we are just picking a dense graph in order to test how long it takes."
   ]
  },
  {
   "cell_type": "code",
   "execution_count": 27,
   "metadata": {
    "ExecuteTime": {
     "end_time": "2019-02-15T06:09:20.357902Z",
     "start_time": "2019-02-15T06:09:15.802887Z"
    }
   },
   "outputs": [
    {
     "name": "stdout",
     "output_type": "stream",
     "text": [
      "1 2 42193 4912\n"
     ]
    }
   ],
   "source": [
    "go = ngl.EmptyRegionGraph(beta=0.2, p=0.2, relaxed=False)\n",
    "go.build(X)\n",
    "lines = []\n",
    "G = nx.Graph()\n",
    "for i in range(count):\n",
    "    G.add_node(i)\n",
    "edge_count = 0\n",
    "for (a, b, distance) in go:\n",
    "    G.add_edge(a, b, length=distance)\n",
    "    edge_count += 1\n",
    "print(1, 2, crossing_count(G), edge_count)"
   ]
  },
  {
   "cell_type": "markdown",
   "metadata": {},
   "source": [
    "\n",
    "The idea is to come up with some metrics that tell us how good a graph is at capturing the shape of a dataset without overcomplicating things. The following figures demonstrate what I mean on the \"S\" shaped data:"
   ]
  },
  {
   "cell_type": "code",
   "execution_count": 35,
   "metadata": {
    "ExecuteTime": {
     "end_time": "2019-02-15T06:17:56.008498Z",
     "start_time": "2019-02-15T06:17:54.935655Z"
    }
   },
   "outputs": [
    {
     "data": {
      "application/vnd.jupyter.widget-view+json": {
       "model_id": "92933c15150d4cb18f70be0832323d65",
       "version_major": 2,
       "version_minor": 0
      },
      "text/plain": [
       "interactive(children=(Dropdown(description='strategy', options=('uniform', 'normal', 'grid', 'cvt', 'lhs', 'ha…"
      ]
     },
     "metadata": {},
     "output_type": "display_data"
    }
   ],
   "source": [
    "\n",
    "@interact(strategy=strategies, alpha=(0.2,20,0.2))\n",
    "def draw_hull(strategy, alpha):\n",
    "    count = 100\n",
    "    dimensionality = 2\n",
    "\n",
    "    X = generate_sample_set(strategy, count, dimensionality)\n",
    "    \n",
    "    go = ngl.EmptyRegionGraph(beta=0.8, p=2.0, relaxed=False)\n",
    "    go.build(X)\n",
    "    lines = []\n",
    "    G = nx.Graph()\n",
    "    for i in range(count):\n",
    "        G.add_node(i)\n",
    "    for (a, b, distance) in go:\n",
    "        G.add_edge(a, b, length=distance)\n",
    "    \n",
    "    points = geometry.MultiPoint([ tuple(x) for x in X])\n",
    "    concave_hull, edge_points = alpha_shape(points, alpha=alpha)\n",
    "    lines = []\n",
    "    fig = plt.figure()\n",
    "    ax = fig.add_subplot(111)\n",
    "    for e1 in G.edges():\n",
    "        lines.append(geometry.LineString(X[e1, :]))\n",
    "        ax.plot(*np.array(lines[-1]).T, c=\"k\")\n",
    "    ax.set_aspect(1)\n",
    "    ax.set_xlim(0,1)\n",
    "    ax.set_ylim(0,1)\n",
    "\n",
    "    fig = plt.figure()\n",
    "    ax = fig.add_subplot(111)\n",
    "    ax.add_patch(descartes.PolygonPatch(concave_hull))\n",
    "    ax.set_aspect(1)\n",
    "    ax.set_xlim(0,1)\n",
    "    ax.set_ylim(0,1)\n",
    "    \n",
    "    polygons = []\n",
    "    fig = plt.figure()\n",
    "    ax = fig.add_subplot(111)\n",
    "    for p in polygonize(lines):\n",
    "        p = p.buffer(0)\n",
    "        intersection = p.intersection(concave_hull)\n",
    "        diff = p.difference(intersection)\n",
    "        if diff.is_empty:\n",
    "            polygons.append(p)\n",
    "            ax.add_patch(descartes.PolygonPatch(p))\n",
    "    ax.set_aspect(1)\n",
    "    ax.set_xlim(0,1)\n",
    "    ax.set_ylim(0,1)\n",
    "    \n",
    "    polytope = cascaded_union(polygons)\n",
    "    fig = plt.figure()\n",
    "    ax = fig.add_subplot(111)\n",
    "    ax.add_patch(descartes.PolygonPatch(polytope))\n",
    "    ax.set_aspect(1)\n",
    "    ax.set_xlim(0,1)\n",
    "    ax.set_ylim(0,1)"
   ]
  },
  {
   "cell_type": "markdown",
   "metadata": {},
   "source": [
    "The first shows a \"messy\" graph. Without doing much, we can hopefully agree that intersecting lines are bad. This leads to our first metric. A good graph should minimize or eliminate all intersections, since they can lead to things like crossing integral lines when applying topological analysis. Alternatively, very sparse graphs can tend to miss undulates or features in the data. What we want is a graph that does not have intersections, but in some sense \"fills\" the space as much as possible. Let's come back to this in a bit.\n",
    "\n",
    "There is some inherent shape that we can capture by looking at the \"correct\" alpha shape of the dataset (second image). Mind you, this takes some tuning to understand for even 2D cases. Higher dimensions will be even more of a problem, but let's start with 2D and see if anything can generalize. The third image shows the edges of the \"messy\" graph that travel only through the alpha shape. We can use this to devise two metrics: first, we can count the number of edges that go outside the alpha shape and somehow violate the \"shape\" of the data. We want to minimize this count; and the second is to see evaluate how well a polygonization of the edges fills the alpha shape. The union of these polygons is shown in the last image and does a fairly decent job of replicating the alpha shape. We will call this last metric \"coverage\" since it tells us how much of the alpha shape is covered. Alternatively, we could thing of these two metrics as a version of precision and recall, respectively.\n",
    "\n",
    "Lastly, let us return to our notion of filling the empty regions of the space. Looking again at the third image, we see a large polygon carved out by the edges in the upward hump of the \"S,\" and we also see another one of these large polygons in the lower hump of the \"S.\" These large polygons are not desirable, as we are missing data for anything that happens in the interior of this region. We have to rely on interpolation, and the farther the endpoints are from the center of the polygon, we can assume the interpolation only becomes less reliable. So, in order to favor smaller polygons, we devise a metric that yields the average area of the polygons induced by the sub-graph that lies within the alpha hull. This last part is debatable, because we don't care what happens outside the alpha shape since we are relying on other metrics to reduce the existence of those features, but one could argue that these edges will tend to induce larger polygons thus further penalizing graphs we know to be bad. So, we could relax this metric to be over all polygons induced by the graph."
   ]
  },
  {
   "cell_type": "markdown",
   "metadata": {},
   "source": [
    "For these metrics to generalize to higher dimensions (let's say the modest case of up to 5D for now), we need:\n",
    " * Alpha shapes for high dimensions (CGAL?)\n",
    " * A way to find the \"correct\" alpha value for different shapes in all dimensions\n",
    " * A way to compute high dimensional volumes (Monte Carlo sampling?)\n",
    " * An algorithm for finding line segment intersection or approximate intersection in high dimensions (closest points on Fattened rods?)\n",
    " * An algorithm for inducing polytopes on a 1-skeleton graph (I have no clue...)"
   ]
  },
  {
   "cell_type": "markdown",
   "metadata": {},
   "source": [
    "# Applying Metrics to the $\\beta_p$-Skeletons and KNN Graphs"
   ]
  },
  {
   "cell_type": "markdown",
   "metadata": {},
   "source": [
    "## Compute Metrics for $\\beta_p$-Skeletons"
   ]
  },
  {
   "cell_type": "code",
   "execution_count": null,
   "metadata": {
    "ExecuteTime": {
     "end_time": "2019-02-15T01:22:51.198274Z",
     "start_time": "2019-02-15T01:02:04.340907Z"
    }
   },
   "outputs": [],
   "source": [
    "betas = []\n",
    "ps = []\n",
    "crossings = []\n",
    "out_of_bounds = []\n",
    "average_areas = []\n",
    "coverages = []\n",
    "for (beta, p), G in graphs.items():\n",
    "    betas.append(beta)\n",
    "    ps.append(p)\n",
    "    out_of_bounds.append(out_of_bounds_count(G, X, 8))\n",
    "    average_areas.append(average_area(G, X, 8))\n",
    "    coverages.append(coverage(G, X, 8))\n",
    "    crossings.append(crossing_count(G))"
   ]
  },
  {
   "cell_type": "code",
   "execution_count": null,
   "metadata": {
    "ExecuteTime": {
     "end_time": "2019-02-15T03:03:35.512648Z",
     "start_time": "2019-02-15T03:03:35.478119Z"
    },
    "scrolled": false
   },
   "outputs": [],
   "source": [
    "beta_skeleton_df = pd.DataFrame({\"beta\": np.round(betas, 1),\n",
    "                                 \"p\": ps,\n",
    "                                 \"crossed_count\": crossings,\n",
    "                                 \"out_of_bounds_count\": out_of_bounds,\n",
    "                                 \"average_area\": average_areas,\n",
    "                                 \"coverage\": coverages})\n",
    "beta_skeleton_df.describe()"
   ]
  },
  {
   "cell_type": "code",
   "execution_count": null,
   "metadata": {
    "ExecuteTime": {
     "end_time": "2019-02-15T03:37:53.183205Z",
     "start_time": "2019-02-15T03:37:52.244615Z"
    }
   },
   "outputs": [],
   "source": [
    "x = beta_skeleton_df[\"beta\"]\n",
    "y = beta_skeleton_df[\"p\"]\n",
    "\n",
    "metrics = [\"crossed_count\", \"out_of_bounds_count\", \"average_area\", \"coverage\"]\n",
    "high_is_bad = [\"crossed_count\", \"average_area\", \"out_of_bounds_count\"]\n",
    "\n",
    "f, ax = plt.subplots(2,2, sharex=True, sharey=True, dpi=400, squeeze=True)\n",
    "for a, m in zip(ax.flatten(), metrics):\n",
    "    z = np.clip(beta_skeleton_df[m], 0, 100)\n",
    "    if m not in high_is_bad:\n",
    "        z = np.max(z)-z\n",
    "    a.tricontourf(x,y,z, cmap=\"Reds\")\n",
    "    a.plot(x,y, 'ko ')\n",
    "    a.plot(1,2, 'wo ', markersize=5)\n",
    "    a.set_aspect(.25)\n",
    "    a.set_title(m)\n",
    "    \n",
    "ax[0,0].set_ylabel = \"p\"\n",
    "ax[1,0].set_ylabel = \"p\"\n",
    "ax[1,0].set_xlabel = r\"$\\beta$\"\n",
    "ax[1,1].set_xlabel = r\"$\\beta$\""
   ]
  },
  {
   "cell_type": "code",
   "execution_count": null,
   "metadata": {
    "ExecuteTime": {
     "end_time": "2019-02-15T03:38:39.392356Z",
     "start_time": "2019-02-15T03:38:38.205344Z"
    }
   },
   "outputs": [],
   "source": [
    "metrics = [\"crossed_count\", \"out_of_bounds_count\", \"average_area\", \"coverage\"]\n",
    "titles  = [\"Minimizing Crossings\",\n",
    "           \"Minimizing Edges Lying Outside the Alpha Hull\",\n",
    "           \"Minimizing The Average Area of the Induced Polygons\",\n",
    "           \"Maximizing Coverage of the Alpha Hull\"]\n",
    "for metric, title in zip(metrics, titles):\n",
    "    plt.figure()\n",
    "    sns.lineplot(data=beta_skeleton_df, x=\"beta\", hue=\"p\", y=metric, legend=\"full\")\n",
    "    ax = plt.gca()\n",
    "    ax.set_title(title)\n",
    "    if title.startswith(\"Min\"):\n",
    "        optimal_index = np.argmin(beta_skeleton_df[metric])\n",
    "    else:\n",
    "        optimal_index = np.argmax(beta_skeleton_df[metric])\n",
    "    \n",
    "    optimal_x = beta_skeleton_df[\"beta\"][optimal_index]\n",
    "    optimal_y = beta_skeleton_df[metric][optimal_index]\n",
    "    ax.axvline(optimal_x, 0, ax.get_ylim()[1], linestyle=\"dashed\")"
   ]
  },
  {
   "cell_type": "code",
   "execution_count": null,
   "metadata": {
    "ExecuteTime": {
     "end_time": "2019-02-15T03:39:34.336153Z",
     "start_time": "2019-02-15T03:39:33.069103Z"
    }
   },
   "outputs": [],
   "source": [
    "for metric, title in zip(metrics, titles):\n",
    "    plt.figure()\n",
    "    sns.lineplot(data=beta_skeleton_df, x=\"p\", hue=\"beta\", y=metric, legend=\"full\")\n",
    "    ax = plt.gca()\n",
    "    ax.set_title(title)\n",
    "    if title.startswith(\"Min\"):\n",
    "        optimal_index = np.argmin(beta_skeleton_df[metric])\n",
    "    else:\n",
    "        optimal_index = np.argmax(beta_skeleton_df[metric])\n",
    "    \n",
    "    optimal_x = beta_skeleton_df[\"beta\"][optimal_index]\n",
    "    optimal_y = beta_skeleton_df[metric][optimal_index]\n",
    "    ax.axvline(optimal_x, 0, ax.get_ylim()[1], linestyle=\"dashed\")\n"
   ]
  },
  {
   "cell_type": "markdown",
   "metadata": {},
   "source": [
    "# Compute Metrics for KNN Graphs"
   ]
  },
  {
   "cell_type": "code",
   "execution_count": null,
   "metadata": {
    "ExecuteTime": {
     "end_time": "2019-02-15T03:06:12.407233Z",
     "start_time": "2019-02-15T03:03:49.247211Z"
    }
   },
   "outputs": [],
   "source": [
    "ks = []\n",
    "crossings = []\n",
    "out_of_bounds = []\n",
    "average_areas = []\n",
    "coverages = []\n",
    "for k, G in k_graphs.items():\n",
    "    ks.append(k)\n",
    "    out_of_bounds.append(out_of_bounds_count(G, X, 8))\n",
    "    average_areas.append(average_area(G, X, 8))\n",
    "    coverages.append(coverage(G, X, 8))\n",
    "    crossings.append(crossing_count(G))"
   ]
  },
  {
   "cell_type": "code",
   "execution_count": null,
   "metadata": {
    "ExecuteTime": {
     "end_time": "2019-02-15T03:38:35.580668Z",
     "start_time": "2019-02-15T03:38:35.559332Z"
    }
   },
   "outputs": [],
   "source": [
    "knn_df = pd.DataFrame({\"k\": ks,\n",
    "                       \"crossed_count\": crossings,\n",
    "                       \"out_of_bounds_count\": out_of_bounds,\n",
    "                       \"average_area\": average_areas,\n",
    "                       \"coverage\": coverages})\n",
    "knn_df.describe()"
   ]
  },
  {
   "cell_type": "code",
   "execution_count": null,
   "metadata": {
    "ExecuteTime": {
     "end_time": "2019-02-15T03:39:48.402437Z",
     "start_time": "2019-02-15T03:39:47.823922Z"
    }
   },
   "outputs": [],
   "source": [
    "plt.figure()\n",
    "sns.lineplot(data=knn_df, x=\"k\", y=\"crossed_count\", legend=\"full\")\n",
    "plt.gca().set_title(\"Minimizing Crossings\")\n",
    "\n",
    "plt.figure()\n",
    "sns.lineplot(data=knn_df, x=\"k\", y=\"out_of_bounds_count\", legend=\"full\")\n",
    "plt.gca().set_title(\"Minimizing Edges Lying Outside the Alpha Hull\")\n",
    "\n",
    "plt.figure()\n",
    "sns.lineplot(data=knn_df, x=\"k\", y=\"average_area\", legend=\"full\")\n",
    "plt.gca().set_title(\"Minimizing The Average Area of the Induced Polygons\")\n",
    "\n",
    "plt.figure()\n",
    "sns.lineplot(data=knn_df, x=\"k\", y=\"coverage\", legend=\"full\")\n",
    "_ = plt.gca().set_title(\"Maximizing Coverage of the Alpha Hull\")"
   ]
  },
  {
   "cell_type": "markdown",
   "metadata": {},
   "source": [
    "# Delaunay Analysis"
   ]
  },
  {
   "cell_type": "markdown",
   "metadata": {},
   "source": [
    "Here we see how even the Delaunay triangulation (unconstrained) can give some counterproductive results:"
   ]
  },
  {
   "cell_type": "code",
   "execution_count": null,
   "metadata": {
    "ExecuteTime": {
     "end_time": "2019-02-07T01:07:14.344140Z",
     "start_time": "2019-02-07T01:07:13.536726Z"
    }
   },
   "outputs": [],
   "source": [
    "triangles = Delaunay(X).simplices\n",
    "G = nx.Graph()\n",
    "for i in range(len(X)):\n",
    "    G.add_node(i)\n",
    "\n",
    "lines = []\n",
    "for tri in triangles:\n",
    "    lines.append([(X[tri[0],0], X[tri[0],1]), (X[tri[1], 0], X[tri[1], 1])])\n",
    "    lines.append([(X[tri[0],0], X[tri[0],1]), (X[tri[2], 0], X[tri[2], 1])])\n",
    "    lines.append([(X[tri[1],0], X[tri[1],1]), (X[tri[2], 0], X[tri[2], 1])])\n",
    "    G.add_edge(tri[0], tri[1])\n",
    "    G.add_edge(tri[0], tri[2])\n",
    "    G.add_edge(tri[1], tri[2])\n",
    "\n",
    "line_segments = collections.LineCollection(lines, colors='#a6cee3', alpha=0.5, linestyles='--', zorder=2)\n",
    "fig = plt.figure()\n",
    "ax = plt.gca()\n",
    "ax.scatter(X[:,0], X[:,1], marker=',', s=1, zorder=3)\n",
    "ax.add_collection(line_segments)\n",
    "\n",
    "print(\"Delaunay:\\n\\t               Crossing Count: {}\\n\\t     Out of Bounds Edge Count: {}\\n\\t Average Induced Polygon Area: {:.3e}\\n\\t               Alpha Coverage: {}\".format(crossing_count(G),\n",
    "                                        out_of_bounds_count(G, X, 8),\n",
    "                                        average_area(G, X, 8),\n",
    "                                        coverage(G, X, 8)))"
   ]
  },
  {
   "cell_type": "markdown",
   "metadata": {},
   "source": [
    "# Notes"
   ]
  },
  {
   "cell_type": "markdown",
   "metadata": {},
   "source": [
    "* Use total length of out of bounds segments for metric\n",
    "* Compute a continuous set of $\\alpha$ values and plot number of connected components and total area to use as a kind of persistence chart, so we can determine the \"correct\" $\\alpha$ for each dataset\n",
    "* Minimum, Average, Maximum, Variance of edge lengths\n",
    "* Minimum, Maximum, Avergge, & Variance of Connectivity"
   ]
  },
  {
   "cell_type": "markdown",
   "metadata": {
    "heading_collapsed": true
   },
   "source": [
    "# Look at some Graph Metrics from Networkx"
   ]
  },
  {
   "cell_type": "markdown",
   "metadata": {
    "hidden": true
   },
   "source": [
    "These are metrics on abstract graphs, we have geometric graphs, so I am unsure these tell us anything useful. Leaving in for posterity, but should probabyl be removed at some point knowing git will track its existence."
   ]
  },
  {
   "cell_type": "code",
   "execution_count": null,
   "metadata": {
    "ExecuteTime": {
     "end_time": "2019-02-06T04:56:41.921735Z",
     "start_time": "2019-02-06T00:33:05.141602Z"
    },
    "hidden": true,
    "scrolled": false
   },
   "outputs": [],
   "source": [
    "# for (beta, p), G in graphs.items():\n",
    "#     k_components = nx.k_components(G)\n",
    "#     for key, value in k_components.items():\n",
    "#         component_sizes = list(map(len, value))\n",
    "#         print(beta, p, key, min(component_sizes), max(component_sizes))"
   ]
  },
  {
   "cell_type": "code",
   "execution_count": null,
   "metadata": {
    "ExecuteTime": {
     "end_time": "2019-02-05T19:09:16.389199Z",
     "start_time": "2019-02-05T19:08:57.282347Z"
    },
    "hidden": true,
    "scrolled": false
   },
   "outputs": [],
   "source": [
    "# %matplotlib notebook\n",
    "\n",
    "# triples = []\n",
    "# for (beta, p), G in graphs.items():\n",
    "#     triples.append((beta, p, len(nx.algorithms.approximation.clique.max_clique(G))))\n",
    "# vals = np.array(triples)\n",
    "\n",
    "# fig = plt.figure(dpi=100)\n",
    "# ax = fig.add_subplot(111, projection='3d')\n",
    "# ax.plot_trisurf(vals[:, 0], vals[:, 1], vals[:, 2])\n",
    "# plt.gca().set_xlabel(\"beta\")\n",
    "# plt.gca().set_ylabel(\"p\")\n",
    "# _ = plt.gca().set_zlabel(\"Maximum Clique Size\")"
   ]
  },
  {
   "cell_type": "code",
   "execution_count": null,
   "metadata": {
    "ExecuteTime": {
     "end_time": "2019-02-05T19:06:44.267410Z",
     "start_time": "2019-02-05T19:06:44.227929Z"
    },
    "hidden": true
   },
   "outputs": [],
   "source": [
    "# %matplotlib notebook\n",
    "\n",
    "# triples = []\n",
    "# for (beta, p), G in graphs.items():\n",
    "#     triples.append((beta, p, nx.algorithms.approximation.clustering_coefficient.average_clustering(G, trials=10000)))\n",
    "# vals = np.array(triples)\n",
    "\n",
    "# fig = plt.figure(dpi=100)\n",
    "# ax = fig.add_subplot(111, projection='3d')\n",
    "# ax.plot_trisurf(vals[:, 0], vals[:, 1], vals[:, 2])\n",
    "# plt.gca().set_xlabel(\"beta\")\n",
    "# plt.gca().set_ylabel(\"p\")\n",
    "# _ = plt.gca().set_zlabel(\"Average Clustering Coefficient\")"
   ]
  },
  {
   "cell_type": "code",
   "execution_count": null,
   "metadata": {
    "ExecuteTime": {
     "end_time": "2019-02-05T19:12:13.386800Z",
     "start_time": "2019-02-05T19:12:12.918607Z"
    },
    "hidden": true
   },
   "outputs": [],
   "source": [
    "# %matplotlib notebook\n",
    "\n",
    "# triples = []\n",
    "# for (beta, p), G in graphs.items():\n",
    "#     triples.append((beta, p, len(nx.algorithms.core.k_core(G))))\n",
    "# vals = np.array(triples)\n",
    "    \n",
    "# fig = plt.figure(dpi=100)\n",
    "# ax = fig.add_subplot(111, projection='3d')\n",
    "# ax.plot_trisurf(vals[:, 0], vals[:, 1], vals[:, 2])\n",
    "# plt.gca().set_xlabel(\"beta\")\n",
    "# plt.gca().set_ylabel(\"p\")\n",
    "# _ = plt.gca().set_zlabel(\"Size of Main Core\")"
   ]
  },
  {
   "cell_type": "code",
   "execution_count": null,
   "metadata": {
    "ExecuteTime": {
     "end_time": "2019-02-05T19:13:47.774088Z",
     "start_time": "2019-02-05T19:13:47.256116Z"
    },
    "hidden": true
   },
   "outputs": [],
   "source": [
    "# %matplotlib notebook\n",
    "\n",
    "# triples = []\n",
    "# for (beta, p), G in graphs.items():\n",
    "#     triples.append((beta, p, len(nx.algorithms.core.k_shell(G))))\n",
    "# vals = np.array(triples)\n",
    "\n",
    "# fig = plt.figure(dpi=100)\n",
    "# ax = fig.add_subplot(111, projection='3d')\n",
    "# ax.plot_trisurf(vals[:, 0], vals[:, 1], vals[:, 2])\n",
    "# plt.gca().set_xlabel(\"beta\")\n",
    "# plt.gca().set_ylabel(\"p\")\n",
    "# _ = plt.gca().set_zlabel(\"Size of Outer Shell\")"
   ]
  },
  {
   "cell_type": "code",
   "execution_count": null,
   "metadata": {
    "ExecuteTime": {
     "end_time": "2019-02-05T19:14:43.075339Z",
     "start_time": "2019-02-05T19:14:42.936146Z"
    },
    "hidden": true
   },
   "outputs": [],
   "source": [
    "# %matplotlib notebook\n",
    "\n",
    "# triples = []\n",
    "# for (beta, p), G in graphs.items():\n",
    "#     triples.append((beta, p, len(nx.algorithms.core.k_crust(G))))\n",
    "# vals = np.array(triples)\n",
    "\n",
    "# fig = plt.figure(dpi=100)\n",
    "# ax = fig.add_subplot(111, projection='3d')\n",
    "# ax.plot_trisurf(vals[:, 0], vals[:, 1], vals[:, 2])\n",
    "# plt.gca().set_xlabel(\"beta\")\n",
    "# plt.gca().set_ylabel(\"p\")\n",
    "# _ = plt.gca().set_zlabel(\"Size of Main Crust\")"
   ]
  },
  {
   "cell_type": "code",
   "execution_count": null,
   "metadata": {
    "ExecuteTime": {
     "end_time": "2019-02-05T19:18:03.852413Z",
     "start_time": "2019-02-05T19:17:59.211425Z"
    },
    "hidden": true
   },
   "outputs": [],
   "source": [
    "# %matplotlib notebook\n",
    "\n",
    "# triples = []\n",
    "# for (beta, p), G in graphs.items():\n",
    "#     try:\n",
    "#         triples.append((beta, p, len(nx.algorithms.distance_measures.center(G))))\n",
    "#     except nx.NetworkXError as e:\n",
    "#         pass\n",
    "# vals = np.array(triples)\n",
    "\n",
    "# fig = plt.figure(dpi=100)\n",
    "# ax = fig.add_subplot(111, projection='3d')\n",
    "# ax.plot_trisurf(vals[:, 0], vals[:, 1], vals[:, 2])\n",
    "# plt.gca().set_xlabel(\"beta\")\n",
    "# plt.gca().set_ylabel(\"p\")\n",
    "# _ = plt.gca().set_zlabel(\"Size of Center\")"
   ]
  },
  {
   "cell_type": "code",
   "execution_count": null,
   "metadata": {
    "ExecuteTime": {
     "end_time": "2019-02-05T19:19:08.518898Z",
     "start_time": "2019-02-05T19:19:03.644386Z"
    },
    "hidden": true
   },
   "outputs": [],
   "source": [
    "# %matplotlib notebook\n",
    "\n",
    "# triples = []\n",
    "# for (beta, p), G in graphs.items():\n",
    "#     try:\n",
    "#         triples.append((beta, p, nx.algorithms.distance_measures.diameter(G)))\n",
    "#     except nx.NetworkXError as e:\n",
    "#         pass\n",
    "# vals = np.array(triples)\n",
    "\n",
    "# fig = plt.figure(dpi=100)\n",
    "# ax = fig.add_subplot(111, projection='3d')\n",
    "# ax.plot_trisurf(vals[:, 0], vals[:, 1], vals[:, 2])\n",
    "# plt.gca().set_xlabel(\"beta\")\n",
    "# plt.gca().set_ylabel(\"p\")\n",
    "# _ = plt.gca().set_zlabel(\"Diameter\")"
   ]
  },
  {
   "cell_type": "code",
   "execution_count": null,
   "metadata": {
    "ExecuteTime": {
     "end_time": "2019-02-05T19:21:11.754787Z",
     "start_time": "2019-02-05T19:21:07.015420Z"
    },
    "hidden": true
   },
   "outputs": [],
   "source": [
    "# %matplotlib notebook\n",
    "\n",
    "# triples = []\n",
    "# for (beta, p), G in graphs.items():\n",
    "#     try:\n",
    "#         triples.append((beta, p, len(nx.algorithms.distance_measures.periphery(G))))\n",
    "#     except nx.NetworkXError as e:\n",
    "#         pass\n",
    "# vals = np.array(triples)\n",
    "\n",
    "# fig = plt.figure(dpi=100)\n",
    "# ax = fig.add_subplot(111, projection='3d')\n",
    "# ax.plot_trisurf(vals[:, 0], vals[:, 1], vals[:, 2])\n",
    "# plt.gca().set_xlabel(\"beta\")\n",
    "# plt.gca().set_ylabel(\"p\")\n",
    "# _ = plt.gca().set_zlabel(\"Size of Periphery\")"
   ]
  },
  {
   "cell_type": "code",
   "execution_count": null,
   "metadata": {
    "ExecuteTime": {
     "end_time": "2019-02-05T19:22:20.498238Z",
     "start_time": "2019-02-05T19:22:15.819456Z"
    },
    "hidden": true
   },
   "outputs": [],
   "source": [
    "# %matplotlib notebook\n",
    "\n",
    "# triples = []\n",
    "# for (beta, p), G in graphs.items():\n",
    "#     try:\n",
    "#         triples.append((beta, p, nx.algorithms.distance_measures.radius(G)))\n",
    "#     except nx.NetworkXError as e:\n",
    "#         pass\n",
    "# vals = np.array(triples)\n",
    "\n",
    "# fig = plt.figure(dpi=100)\n",
    "# ax = fig.add_subplot(111, projection='3d')\n",
    "# ax.plot_trisurf(vals[:, 0], vals[:, 1], vals[:, 2])\n",
    "# plt.gca().set_xlabel(\"beta\")\n",
    "# plt.gca().set_ylabel(\"p\")\n",
    "# _ = plt.gca().set_zlabel(\"Radius\")"
   ]
  },
  {
   "cell_type": "code",
   "execution_count": null,
   "metadata": {
    "hidden": true
   },
   "outputs": [],
   "source": []
  }
 ],
 "metadata": {
  "kernelspec": {
   "display_name": "Python [conda env:gpu]",
   "language": "python",
   "name": "conda-env-gpu-py"
  },
  "language_info": {
   "codemirror_mode": {
    "name": "ipython",
    "version": 3
   },
   "file_extension": ".py",
   "mimetype": "text/x-python",
   "name": "python",
   "nbconvert_exporter": "python",
   "pygments_lexer": "ipython3",
   "version": "3.6.6"
  },
  "toc": {
   "base_numbering": 1,
   "nav_menu": {},
   "number_sections": true,
   "sideBar": true,
   "skip_h1_title": false,
   "title_cell": "Table of Contents",
   "title_sidebar": "Contents",
   "toc_cell": false,
   "toc_position": {},
   "toc_section_display": true,
   "toc_window_display": true
  }
 },
 "nbformat": 4,
 "nbformat_minor": 2
}
